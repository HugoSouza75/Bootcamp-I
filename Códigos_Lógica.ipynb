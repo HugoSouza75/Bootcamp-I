{
  "nbformat": 4,
  "nbformat_minor": 0,
  "metadata": {
    "colab": {
      "provenance": []
    },
    "kernelspec": {
      "name": "python3",
      "display_name": "Python 3"
    },
    "language_info": {
      "name": "python"
    }
  },
  "cells": [
    {
      "cell_type": "code",
      "execution_count": null,
      "metadata": {
        "id": "_B-7joWkTWFP"
      },
      "outputs": [],
      "source": [
        "dia_aniversario = 24#int(input(\"Digite o dia do aniversário:\"))\n",
        "mes_aniversario = 9#int(input(\"Digite o mês do aniversário\"))\n",
        "ano_aniversario = 2006#int(input(\"Digite o ano do aniversário\"))\n",
        "idade = 2025 - ano_aniversario\n",
        "ano_50 = ano_aniversario + 50\n",
        "print(f'Você tem {idade} anos.')\n",
        "print(f'Você fará 50 anos em {ano_50}.')"
      ]
    },
    {
      "cell_type": "code",
      "source": [
        "print(\"Digite o número 0 para parar a sequência\")\n",
        "num = 4#int(input(\"\\nDigite um número inteiro:\"))\n",
        "contador_pos = 0\n",
        "contador_neg = 0\n",
        "if num > 0:\n",
        "  contador_pos += 1\n",
        "elif num < 0:\n",
        "  contador_neg += 1\n",
        "while num > 0 or num < 0:\n",
        "  num = -2#int(input(\"\\nDigite um número inteiro:\"))\n",
        "  if num > 0:\n",
        "    contador_pos += 1\n",
        "  elif num < 0:\n",
        "    contador_neg += 1\n",
        "  else:\n",
        "    print(f\"\\nVocê apresentou {contador_pos} número(s) positivos e {contador_neg} números negativo(s) na sequência.\")"
      ],
      "metadata": {
        "id": "42WLU4NXTZFJ"
      },
      "execution_count": null,
      "outputs": []
    },
    {
      "cell_type": "code",
      "source": [
        "altura = int(input(\"Digite a altura da letra do nome (necessário ser maior que 6):\"))\n",
        "# Letra a ser apresentada será o H\n",
        "\n",
        "if altura <= 6:\n",
        "  print(\"A altura deve ser maior que 6.\")\n",
        "else:\n",
        "  for i in range (altura // 2):\n",
        "    print(\"x\" + \" \" * (altura - 2) + \"x\")\n",
        "\n",
        "  for i in range (1):\n",
        "    print(\"x\" * altura)\n",
        "\n",
        "  for i in range (altura // 2):\n",
        "      print(\"x\" + \" \" * (altura - 2) + \"x\")"
      ],
      "metadata": {
        "colab": {
          "base_uri": "https://localhost:8080/"
        },
        "id": "9B2iGa9_Tiu3",
        "outputId": "9d887dfe-b379-47d7-c3d8-e8bc55886d0e"
      },
      "execution_count": 1,
      "outputs": [
        {
          "output_type": "stream",
          "name": "stdout",
          "text": [
            "Digite a altura da letra do nome (necessário ser maior que 6):9\n",
            "x       x\n",
            "x       x\n",
            "x       x\n",
            "x       x\n",
            "xxxxxxxxx\n",
            "x       x\n",
            "x       x\n",
            "x       x\n",
            "x       x\n"
          ]
        }
      ]
    }
  ]
}