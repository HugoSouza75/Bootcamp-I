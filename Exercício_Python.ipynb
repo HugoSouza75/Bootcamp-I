{
  "nbformat": 4,
  "nbformat_minor": 0,
  "metadata": {
    "colab": {
      "provenance": []
    },
    "kernelspec": {
      "name": "python3",
      "display_name": "Python 3"
    },
    "language_info": {
      "name": "python"
    }
  },
  "cells": [
    {
      "cell_type": "code",
      "execution_count": null,
      "metadata": {
        "id": "z66BiQ1LpZtK"
      },
      "outputs": [],
      "source": [
        "total_vagas = 320\n",
        "vagas_disponiveis =  total_vagas\n",
        "\n",
        "veiculos_registrados = {\n",
        "    \"PBC4782\", \"QWE9120\", \"MNS2378\"\n",
        "}\n",
        "\n",
        "def verificar_acesso(placa_veiculo):\n",
        "    return placa_veiculo in veiculos_registrados\n",
        "\n",
        "def entrada_veiculo(placa_veiculo):\n",
        "    global vagas_disponiveis\n",
        "    if verificar_acesso(placa_veiculo) and vagas_disponiveis > 0:\n",
        "        vagas_disponiveis -= 1\n",
        "        print(f\"Acesso permitido para {placa_veiculo}. Vagas disponíveis: {vagas_disponiveis}\")\n",
        "    elif not verificar_acesso(placa_veiculo):\n",
        "        print(f\"Acesso negado: veículo {placa_veiculo} não registrado.\")\n",
        "    else:\n",
        "        print(f\"Estacionamento cheio. Acesso negado para {placa_veiculo}.\")\n",
        "\n",
        "def saida_veiculo(placa_veiculo):\n",
        "    global vagas_disponiveis\n",
        "    if vagas_disponiveis < total_vagas:\n",
        "        vagas_disponiveis += 1\n",
        "        print(f\"Veículo {placa_veiculo} saiu. Vagas disponíveis: {vagas_disponiveis}\")\n",
        "    else:\n",
        "        print(\"Erro: não há veículos no estacionamento.\")"
      ]
    }
  ]
}